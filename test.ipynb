{
 "cells": [
  {
   "cell_type": "code",
   "execution_count": 2,
   "metadata": {},
   "outputs": [],
   "source": [
    "from typing import Sequence, Tuple\n",
    "\n",
    "class Parameter:\n",
    "    def __init__(self, name):\n",
    "        self.name = name\n",
    "\n",
    "class Module:\n",
    "    def __init__(self):\n",
    "        self._parameters = {}\n",
    "        self.modules = {}\n",
    "\n",
    "    def add_parameter(self, name, value):\n",
    "        self._parameters[name] = value\n",
    "\n",
    "    def add_module(self, name, module):\n",
    "        self.modules[name] = module\n",
    "\n",
    "    def named_parameters(self) -> Sequence[Tuple[str, Parameter]]:\n",
    "        \"\"\"\n",
    "        Collect all the parameters of this module and its descendents.\n",
    "\n",
    "        Returns:\n",
    "            The name and `Parameter` of each ancestor parameter.\n",
    "        \"\"\"\n",
    "        res = []\n",
    "        child_ls = [self]\n",
    "        child_name_ls = ['']\n",
    "\n",
    "        while child_ls:\n",
    "            child_ls_cp = child_ls\n",
    "            child_name_ls_cp = child_name_ls\n",
    "            child_ls = []\n",
    "            child_name_ls = []\n",
    "            for m, n in zip(child_ls_cp, child_name_ls_cp):\n",
    "                for name, value in m._parameters.items():\n",
    "                    name = n + name\n",
    "                    res.append((name, value))\n",
    "                for name, value in m.modules.items():\n",
    "                    child_name_ls.append(n + name + '.')\n",
    "                    child_ls.append(value)\n",
    "\n",
    "        return res\n"
   ]
  },
  {
   "cell_type": "code",
   "execution_count": 4,
   "metadata": {},
   "outputs": [
    {
     "name": "stdout",
     "output_type": "stream",
     "text": [
      "Name: param1, Parameter: parameter1\n",
      "Name: param2, Parameter: parameter2\n",
      "Name: submodule1.param3, Parameter: parameter3\n",
      "Name: submodule2.param4, Parameter: parameter4\n"
     ]
    }
   ],
   "source": [
    "module = Module()\n",
    "module.add_parameter('param1', Parameter('parameter1'))\n",
    "module.add_parameter('param2', Parameter('parameter2'))\n",
    "\n",
    "submodule1 = Module()\n",
    "submodule1.add_parameter('param3', Parameter('parameter3'))\n",
    "\n",
    "submodule2 = Module()\n",
    "submodule2.add_parameter('param4', Parameter('parameter4'))\n",
    "\n",
    "module.add_module('submodule1', submodule1)\n",
    "module.add_module('submodule2', submodule2)\n",
    "\n",
    "# Printing named parameters\n",
    "parameters = module.named_parameters()\n",
    "for name, parameter in parameters:\n",
    "    print(f\"Name: {name}, Parameter: {parameter.name}\")"
   ]
  }
 ],
 "metadata": {
  "kernelspec": {
   "display_name": "minitorch",
   "language": "python",
   "name": "python3"
  },
  "language_info": {
   "codemirror_mode": {
    "name": "ipython",
    "version": 3
   },
   "file_extension": ".py",
   "mimetype": "text/x-python",
   "name": "python",
   "nbconvert_exporter": "python",
   "pygments_lexer": "ipython3",
   "version": "3.10.12"
  },
  "orig_nbformat": 4
 },
 "nbformat": 4,
 "nbformat_minor": 2
}
